{
  "metadata": {
    "kernelspec": {
      "name": "python",
      "display_name": "Python (Pyodide)",
      "language": "python"
    },
    "language_info": {
      "codemirror_mode": {
        "name": "python",
        "version": 3
      },
      "file_extension": ".py",
      "mimetype": "text/x-python",
      "name": "python",
      "nbconvert_exporter": "python",
      "pygments_lexer": "ipython3",
      "version": "3.8"
    }
  },
  "nbformat_minor": 4,
  "nbformat": 4,
  "cells": [
    {
      "cell_type": "markdown",
      "source": "# Exponential multiplied by $x$\r\n\r\nIf it is desired to fit a sum of exponentials, some with repeated $\\lambda$ but multiplied by $x$, again the exact same method can be used. This scenario manifest itself as repeated eigen-values of $\\hat{A}$",
      "metadata": {}
    },
    {
      "cell_type": "markdown",
      "source": "---\n\n# Example\n\n## Import [PyArma](https://pyarma.sourceforge.io/)",
      "metadata": {}
    },
    {
      "cell_type": "code",
      "source": "from pyarma import *\nfrom pyarma_utils import cumtrapz, join_horizontal",
      "metadata": {
        "trusted": true
      },
      "outputs": [],
      "execution_count": 1
    },
    {
      "cell_type": "markdown",
      "source": "## Generate data to fit",
      "metadata": {}
    },
    {
      "cell_type": "code",
      "source": "dx = 0.02\nx = regspace(dx, dx, 1.5)\ny = 5*exp(0.5*x) + 4*exp(-3*x) + 2*x@exp(-3*x)",
      "metadata": {
        "trusted": true
      },
      "outputs": [],
      "execution_count": 2
    },
    {
      "cell_type": "markdown",
      "source": "## Compute integrals",
      "metadata": {}
    },
    {
      "cell_type": "code",
      "source": "iy1 = cumtrapz(x, y)\niy2 = cumtrapz(x, iy1)\niy3 = cumtrapz(x, iy2)",
      "metadata": {
        "trusted": true
      },
      "outputs": [],
      "execution_count": 3
    },
    {
      "cell_type": "markdown",
      "source": "## Compute exponentials lambdas",
      "metadata": {}
    },
    {
      "cell_type": "code",
      "source": "Y = join_horizontal(iy1, iy2, iy3, pow(x, 2), x, ones(size(x)))\nA = pinv(Y)*y;\nlambdas = eig_gen(mat([\n    [A[0], A[1], A[2]],\n    [1, 0, 0],\n    [0, 1, 0]\n]))[0]\nlambdas = real(lambdas)\nlambdas.print(\"lambdas = \")",
      "metadata": {
        "trusted": true
      },
      "outputs": [
        {
          "name": "stdout",
          "text": "lambdas = \n  -2.9991\n  -2.9991\n   0.5000\n",
          "output_type": "stream"
        }
      ],
      "execution_count": 4
    },
    {
      "cell_type": "markdown",
      "source": "**NOTE** : repeated `-2.9991` means $x e^{\\lambda x}$",
      "metadata": {}
    },
    {
      "cell_type": "markdown",
      "source": "## Compute exponentials multipliers",
      "metadata": {}
    },
    {
      "cell_type": "code",
      "source": "X = join_horizontal(exp(lambdas[0]*x), x@exp(lambdas[1]*x), exp(lambdas[2]*x))\nP = pinv(X)*y;\nP = real(P)\nP.print(\"P = \")",
      "metadata": {
        "trusted": true
      },
      "outputs": [
        {
          "name": "stdout",
          "text": "P = \n   4.0001\n   1.9955\n   5.0000\n",
          "output_type": "stream"
        }
      ],
      "execution_count": 5
    }
  ]
}