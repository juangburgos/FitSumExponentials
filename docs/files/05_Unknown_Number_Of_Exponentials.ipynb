{
  "metadata": {
    "kernelspec": {
      "name": "python",
      "display_name": "Python (Pyodide)",
      "language": "python"
    },
    "language_info": {
      "codemirror_mode": {
        "name": "python",
        "version": 3
      },
      "file_extension": ".py",
      "mimetype": "text/x-python",
      "name": "python",
      "nbconvert_exporter": "python",
      "pygments_lexer": "ipython3",
      "version": "3.8"
    }
  },
  "nbformat_minor": 4,
  "nbformat": 4,
  "cells": [
    {
      "cell_type": "markdown",
      "source": "# Unknown Number of Exponentials\n\nIf the structure of the model to fit is unknown, one can simply run the algorithm for a large $n$ and compute the singular values of $Y$. By looking at the singular values, we can infer how many of them are actually needed to fit most of the data. From this we can select a minimum $n$ and based in the singular values of $\\hat{A}$ we can also deduce the structure of the model (how many exponentials, sines, cosines, if there are exponentials multiplied times $x$, etc.).",
      "metadata": {}
    },
    {
      "cell_type": "markdown",
      "source": "---\n\n# Example\n\n## Import [PyArma](https://pyarma.sourceforge.io/)",
      "metadata": {}
    },
    {
      "cell_type": "code",
      "source": "from pyarma import *\nfrom pyarma_utils import cumtrapz, join_horizontal",
      "metadata": {
        "trusted": true
      },
      "outputs": [],
      "execution_count": 1
    },
    {
      "cell_type": "markdown",
      "source": "## Generate data to fit",
      "metadata": {}
    },
    {
      "cell_type": "code",
      "source": "dx = 0.02\nx = regspace(dx, dx, 1.5)\ny = 5*exp(0.5*x) + 4*exp(-3*x) + 2*exp(-2*x)",
      "metadata": {
        "trusted": true
      },
      "outputs": [],
      "execution_count": 2
    },
    {
      "cell_type": "markdown",
      "source": "## Compute `N` integrals of `y` and `N-1` powers of `x`",
      "metadata": {}
    },
    {
      "cell_type": "code",
      "source": "n = 10\niy = zeros(x.n_elem, n)\nxp = zeros(x.n_elem, n-1)\niy[:,0] = cumtrapz(x, y)\nxp[:,0] = ones(size(x))\nfor ii in range(1, n-1):\n    iy[:, ii] = cumtrapz(x, iy[:, ii-1])\n    xp[:, ii] = xp[:, ii-1] @ x\niy[:, n-1] = cumtrapz(x, iy[:, n-2])",
      "metadata": {
        "trusted": true
      },
      "outputs": [],
      "execution_count": 3
    },
    {
      "cell_type": "markdown",
      "source": "## Compute Singular Values of `Y`",
      "metadata": {}
    },
    {
      "cell_type": "code",
      "source": "Y = join_horizontal(iy, xp)\nysv = svd(Y)[1]",
      "metadata": {
        "trusted": true
      },
      "outputs": [],
      "execution_count": 4
    },
    {
      "cell_type": "markdown",
      "source": "## Scale Singular Values to Percentage",
      "metadata": {}
    },
    {
      "cell_type": "code",
      "source": "ysv_scaled = (100/sum(ysv)[0,0]) * ysv\nysv_scaled.print(\"ysv_scaled = \")",
      "metadata": {
        "trusted": true
      },
      "outputs": [
        {
          "name": "stdout",
          "text": "ysv_scaled = \n   6.9014e+01\n   2.4043e+01\n   4.5012e+00\n   1.6753e+00\n   6.4420e-01\n   1.0649e-01\n   1.4482e-02\n   1.4624e-03\n   1.0298e-04\n   6.4525e-07\n   4.2105e-09\n   1.1134e-10\n   1.6233e-12\n   1.1949e-15\n   3.5137e-16\n   2.0894e-16\n   5.7819e-17\n   1.5788e-17\n   3.1670e-18\n",
          "output_type": "stream"
        }
      ],
      "execution_count": 5
    },
    {
      "cell_type": "markdown",
      "source": "## Select the N Principal Components\n\nFor example, select `N` above a threshold of $0.1%$.",
      "metadata": {}
    },
    {
      "cell_type": "code",
      "source": "thres = 0.1\nn_ysv_scaled = mat(ysv_scaled[ find(ysv_scaled > thres) ])\nN = n_ysv_scaled.n_elem / 2\nprint(N)",
      "metadata": {
        "trusted": true
      },
      "outputs": [
        {
          "name": "stdout",
          "text": "3.0\n",
          "output_type": "stream"
        }
      ],
      "execution_count": 6
    },
    {
      "cell_type": "markdown",
      "source": "$N = 3$ ($6$ singular values)",
      "metadata": {}
    },
    {
      "cell_type": "code",
      "source": "covers = sum(n_ysv_scaled)\ncovers.print(\"covers = \")",
      "metadata": {
        "trusted": true
      },
      "outputs": [
        {
          "name": "stdout",
          "text": "covers = \n   99.9840\n",
          "output_type": "stream"
        }
      ],
      "execution_count": 7
    },
    {
      "cell_type": "markdown",
      "source": "Covers `99.9%` of all components contributions",
      "metadata": {}
    }
  ]
}