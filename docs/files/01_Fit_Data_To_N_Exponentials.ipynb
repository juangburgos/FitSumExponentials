{
  "metadata": {
    "kernelspec": {
      "name": "python",
      "display_name": "Python (Pyodide)",
      "language": "python"
    },
    "language_info": {
      "codemirror_mode": {
        "name": "python",
        "version": 3
      },
      "file_extension": ".py",
      "mimetype": "text/x-python",
      "name": "python",
      "nbconvert_exporter": "python",
      "pygments_lexer": "ipython3",
      "version": "3.8"
    }
  },
  "nbformat_minor": 4,
  "nbformat": 4,
  "cells": [
    {
      "cell_type": "markdown",
      "source": "# [Method for fitting data to the sum of N exponentials](https://math.stackexchange.com/a/3808325/605948)\n\nAssuming the data set $(y, x)$;\n\nCompute the $n$ integrals of $y$ ; $\\int y, \\int^2{y}, \\cdots , , \\int^{n-1}{y} , \\int^n{y}$.\n\nCompute the $n-1$ powers of the independent variable $x$ ; $x, x^2, \\cdots , x^{n-1}$.\n\nSolve linear least squares problem for $[a_{1}, a_{2}, \\cdots, a_{n-1}, a_{n}, k_{n-1}, k_{n-2} , \\cdots , k_{2}, k_{1}, k_{0}]$ in:\n\n$$\ny = \\left[ \\int y , \\int^2{y} , \\cdots, \\int^{n-1}{y}, \\int^n{y} , x^{n-1}, x^{n-2}, \\cdots , x^{2}, x, 1 \\right]\n\\left[\n\\begin{array}{c}\na_{1} \\\\ a_{2} \\\\ \\vdots \\\\ a_{n-1} \\\\ a_{n} \\\\ k_{n-1} \\\\ k_{n-2} \\\\ \\vdots \\\\ k_{2} \\\\ k_{1} \\\\ k_{0}\n\\end{array}\n\\right]\n$$\n\n$$\ny = Y A\n$$\n\n$$\nY^T Y A = Y^T y\n$$\n\n$$\nA = (Y^T Y)^{-1}Y^T y\n$$\n\nThen use the first $n$ elements of $A$ to form the transfer matrix of the integral equation:\n\n$$\n\\bar{A} = \n\\left[\n\\begin{array}{cccccc}\na_1 & a_2 & a_3 & \\cdots & a_{n-1} & a_{n} \\\\\n1 & 0 & 0 & \\cdots & 0 & 0 \\\\\n0 & 1 & 0 & \\cdots & 0 & 0 \\\\\n\\vdots & \\vdots & \\vdots & \\ddots & \\vdots & \\vdots \\\\\n0 & 0 & 0 & \\cdots & 1 & 0\n\\end{array}\n\\right]\n$$\n\nCompute the eigenvalues of $\\bar{A}$ to obtain the solution of the characteristic polynomial.\n\nThe eigenvalues $\\lambda _n$ are then the values of the exponentials in:\n\n$$\ny = \np_1 e^{\\lambda _1 x} + \np_2 e^{\\lambda _2 x} + \n\\cdots + \np_{n-1} e^{\\lambda _{n-1} x} + \np_n e^{\\lambda _n x}\n$$\n\nTo obtain the missing $p_n$, calculate numerically the exponential terms $e^{\\lambda _n}$ and solve the least squares problem for $[p_1, p_2, \\cdots, p_{n-1}, p_n ]$ in\n\n$$\ny = [e^{\\lambda _1 x}, e^{\\lambda _2 x} , \\cdots, e^{\\lambda _{n-1} x}, e^{\\lambda _n x}]\n\\left[\n\\begin{array}{c}\np_1 \\\\\np_2 \\\\\n\\vdots \\\\\np_{n-1} \\\\\np_n\n\\end{array}\n\\right]\n$$\n\n$$\ny = X P\n$$\n\n$$\nX^T X P = X^T y\n$$\n\n$$\nP = (X^T X)^{-1}X^T y\n$$\n\nNow you have your $n$ exponential model parameters $p_n$ and $\\lambda _n$.",
      "metadata": {}
    },
    {
      "cell_type": "markdown",
      "source": "---\n\n# Example N = 4\n\n## Import [PyArma](https://pyarma.sourceforge.io/)",
      "metadata": {}
    },
    {
      "cell_type": "code",
      "source": "from pyarma import *\nfrom pyarma_utils import cumtrapz, join_horizontal",
      "metadata": {
        "trusted": true
      },
      "outputs": [],
      "execution_count": 1
    },
    {
      "cell_type": "markdown",
      "source": "## Generate data to fit",
      "metadata": {}
    },
    {
      "cell_type": "code",
      "source": "dx = 0.02\nx = regspace(dx, dx, 1.5)\ny = 5*exp(0.5*x) + 4*exp(-3*x) + 2*exp(-2*x) - 3*exp(0.15*x)",
      "metadata": {
        "trusted": true
      },
      "outputs": [],
      "execution_count": 2
    },
    {
      "cell_type": "markdown",
      "source": "## Compute integrals",
      "metadata": {}
    },
    {
      "cell_type": "code",
      "source": "iy1 = cumtrapz(x, y)\niy2 = cumtrapz(x, iy1)\niy3 = cumtrapz(x, iy2)\niy4 = cumtrapz(x, iy3)",
      "metadata": {
        "trusted": true
      },
      "outputs": [],
      "execution_count": 3
    },
    {
      "cell_type": "markdown",
      "source": "## Compute exponentials lambdas",
      "metadata": {}
    },
    {
      "cell_type": "code",
      "source": "Y = join_horizontal(iy1, iy2, iy3, iy4, pow(x, 3), pow(x, 2), x, ones(size(x)))\nA = pinv(Y)*y;\nlambdas = eig_gen(mat([\n    [A[0], A[1], A[2], A[3]],\n    [1, 0, 0, 0],\n    [0, 1, 0, 0],\n    [0, 0, 1, 0]\n]))[0]\nlambdas = real(lambdas)\nlambdas.print(\"lambdas = \")",
      "metadata": {
        "trusted": true
      },
      "outputs": [
        {
          "name": "stdout",
          "text": "lambdas = \n  -2.9991\n  -1.9997\n   0.5000\n   0.1500\n",
          "output_type": "stream"
        }
      ],
      "execution_count": 4
    },
    {
      "cell_type": "markdown",
      "source": "## Compute exponentials multipliers",
      "metadata": {}
    },
    {
      "cell_type": "code",
      "source": "X = join_horizontal(exp(lambdas[0]*x), exp(lambdas[1]*x), exp(lambdas[2]*x), exp(lambdas[3]*x))\nP = pinv(X)*y;\nP.print(\"P = \")",
      "metadata": {
        "trusted": true
      },
      "outputs": [
        {
          "name": "stdout",
          "text": "P = \n   4.0042\n   1.9955\n   4.9998\n  -2.9996\n",
          "output_type": "stream"
        }
      ],
      "execution_count": 5
    }
  ]
}