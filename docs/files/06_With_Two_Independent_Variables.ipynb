{
  "metadata": {
    "kernelspec": {
      "name": "python",
      "display_name": "Python (Pyodide)",
      "language": "python"
    },
    "language_info": {
      "codemirror_mode": {
        "name": "python",
        "version": 3
      },
      "file_extension": ".py",
      "mimetype": "text/x-python",
      "name": "python",
      "nbconvert_exporter": "python",
      "pygments_lexer": "ipython3",
      "version": "3.8"
    }
  },
  "nbformat_minor": 4,
  "nbformat": 4,
  "cells": [
    {
      "cell_type": "markdown",
      "source": "# Two Independent Variables\n\nFit to an equation of the form ([ref](https://math.stackexchange.com/questions/3975004/fit-sum-of-multivariate-exponentials)):\n\n$$\nz(x,y)=ae^{bx}y+ce^{dx}\n$$\n\rWe  want to find$ $a,$ $b,$ $c,$ $d values given values of$ $x,$ $y and$ $z from measurement data. \nThis specific case is a lucky one because the term that depends on the independent variable $y$ affects linearly the non-linear exponentials that depend on $x$. So the problem remains linear, and you can still apply [the method I proposed here](https://math.stackexchange.com/questions/1428566/fit-sum-of-exponentials/) (with some minor changes).\n\nFirst we have to store the data $z(x,y)$ in a (tall) column vector, putting each $y$ sample head-to-tail with each other. Assuming we have $nx$ number of samples in $x$, and $ny$ number of samples in $y$:\r\n\r\n$$\r\nz = \\left[\r\n\\begin{array}{c}\r\nz(x, y_1) \\\\\r\nz(x, y_2) \\\\\r\n\\vdots \\\\\r\nz(x, y_{ny})\r\n\\end{array}\r\n\\right]\r\n$$\r\n\r\nNow we need to equate the right hand side of, the equation according to the proposed method. For all $ny$ samples in $y$, the exponental terms (\"lambdas\") are the same, but the terms that multiply $x$ and the constant are not, so the matrix should have the form:\r\n\r\n$$\r\nZ = \\left[\r\n\\begin{array}{c}\r\n\\int{z(x, y_1)} & \\int^2{z(x, y_1)} & x & 1 & 0 & 0 & \\dots & 0 & 0 \\\\\r\n\\int{z(x, y_2)} & \\int^2{z(x, y_2)} & 0 & 0 & x & 1 & \\dots & 0 & 0 \\\\\r\n\\vdots \\\\\r\n\\int{z(x, y_{ny})} & \\int^2{z(x, y_{ny})} & 0 & 0 & 0 & 0 & \\dots & x & 1\r\n\\end{array}\r\n\\right]\r\n$$\r\n\r\nSo now we have:\r\n\r\n$$\r\nz = Z A\r\n$$\r\n\r\nSo:\r\n\r\n$$\r\nA = (Z^T Z)^{-1}Z^T z \r\n$$\r\n\r\n$$\r\n\\lambda = eig\\left(\r\n\\left[\r\n\\begin{array}{c}\r\nA(1) & A(2) \\\\\r\n1 & 0\r\n\\end{array}\r\n\\right]\r\n\\right) \r\n$$\r\n\r\nThe rest follows by the proposed method.\n",
      "metadata": {}
    },
    {
      "cell_type": "markdown",
      "source": "---\n\n# Example\n\n## Import [PyArma](https://pyarma.sourceforge.io/)",
      "metadata": {}
    },
    {
      "cell_type": "code",
      "source": "from pyarma import *\nfrom pyarma_utils import cumtrapz, join_horizontal",
      "metadata": {
        "trusted": true
      },
      "outputs": [],
      "execution_count": 1
    },
    {
      "cell_type": "markdown",
      "source": "## Generate data to fit\n\nIndependent variable $x$",
      "metadata": {}
    },
    {
      "cell_type": "code",
      "source": "dx = 0.02\nx = regspace(dx, dx, 1.5)\nnx = x.n_elem",
      "metadata": {
        "trusted": true
      },
      "outputs": [],
      "execution_count": 2
    },
    {
      "cell_type": "markdown",
      "source": "Independent variable $y$",
      "metadata": {}
    },
    {
      "cell_type": "code",
      "source": "dy = 0.05\ny = regspace(dy, dy, 1.5)\nny = y.n_elem",
      "metadata": {
        "trusted": true
      },
      "outputs": [],
      "execution_count": 3
    },
    {
      "cell_type": "markdown",
      "source": "Dependent variable $z(x,y)$\n\nStored in column vector head-to-tail for each $y[k]$",
      "metadata": {}
    },
    {
      "cell_type": "code",
      "source": "z = zeros(nx*ny, 1)\nfor k in range(0, ny):\n    z_start = nx*k\n    z_end   = nx*(k+1)-1\n    z[z_start:z_end,:] = 5*exp(0.5*x)*y[k] + 4*exp(-3*x)",
      "metadata": {
        "trusted": true
      },
      "outputs": [],
      "execution_count": 4
    },
    {
      "cell_type": "markdown",
      "source": "## Compute exponentials lambdas",
      "metadata": {}
    },
    {
      "cell_type": "markdown",
      "source": "Build least squares matrix $Z$ to obtain the lambdas",
      "metadata": {}
    },
    {
      "cell_type": "code",
      "source": "Z = zeros(nx*ny, 2+2*ny)\nfor k in range(0, ny):\n    z_start = nx*k\n    z_end   = nx*(k+1)-1\n    # calculate integrals of z(y[k]) wrt x, for each kth sample in y\n    iz1 = cumtrapz(x, z[z_start:z_end,:])\n    iz2 = cumtrapz(x, iz1)\n    # store in appropriate location\n    Z[z_start:z_end, 0:1] = join_horizontal(iz1, iz2)\n    Z[z_start:z_end, 2+2*k:3+2*k] = join_horizontal(x, ones(size(x)))",
      "metadata": {
        "trusted": true
      },
      "outputs": [],
      "execution_count": 5
    },
    {
      "cell_type": "markdown",
      "source": "Solve the least squares and eigenvalue problems",
      "metadata": {}
    },
    {
      "cell_type": "code",
      "source": "A = pinv(Z)*z\nlambdas = eig_gen(mat([\n    [A[0], A[1]],\n    [1, 0]\n]))[0]\nlambdas = real(lambdas)\nlambdas.print(\"lambdas = \")",
      "metadata": {
        "trusted": true
      },
      "outputs": [
        {
          "name": "stdout",
          "text": "lambdas = \n  -2.9991\n   0.5000\n",
          "output_type": "stream"
        }
      ],
      "execution_count": 6
    },
    {
      "cell_type": "markdown",
      "source": "## Compute exponentials multipliers\n\nBuild least squares matrix $X$ and solve the least squares problem to obtain the multipliers",
      "metadata": {}
    },
    {
      "cell_type": "code",
      "source": "X = zeros(nx*ny, 2)\nfor k in range(0, ny):\n    x_start = nx*k\n    x_end   = nx*(k+1)-1\n    X[x_start:x_end, :] = join_horizontal(exp(lambdas[1]*x)*y[k], exp(lambdas[0]*x))\n# solve the least squares problem\nP = pinv(X)*z;\nP = real(P)\nP.print(\"P = \")",
      "metadata": {
        "trusted": true
      },
      "outputs": [
        {
          "name": "stdout",
          "text": "P = \n   4.9999\n   3.9995\n",
          "output_type": "stream"
        }
      ],
      "execution_count": 7
    },
    {
      "cell_type": "markdown",
      "source": "## Discussion\n\nNote that in the \"Compute exponentials multipliers\" section of the code,awe I used t expession\n\n```python\njoin_horizontal( exp(lambdas[1]*x)*y[k], exp(lambdas[0]*x) )\n```\n\nfor the fit, because we already knew in advance which exponential gets multiplied by $y(k)$. But actually we don't know at this point which of the two $exp(lambda(?)*x)$ is the one that gets multiplied by $y(k)$. So actually in practice, we would need to also try:\n\n```python\njoin_horizontal( exp(lambdas[1]*x), exp(lambdas[0]*x)*y[k] )\n```\n\nAnd see which one makes the best fit. best fit.",
      "metadata": {}
    }
  ]
}