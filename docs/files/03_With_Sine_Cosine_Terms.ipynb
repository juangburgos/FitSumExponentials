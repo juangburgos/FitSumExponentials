{
  "metadata": {
    "kernelspec": {
      "name": "python",
      "display_name": "Python (Pyodide)",
      "language": "python"
    },
    "language_info": {
      "codemirror_mode": {
        "name": "python",
        "version": 3
      },
      "file_extension": ".py",
      "mimetype": "text/x-python",
      "name": "python",
      "nbconvert_exporter": "python",
      "pygments_lexer": "ipython3",
      "version": "3.8"
    }
  },
  "nbformat_minor": 4,
  "nbformat": 4,
  "cells": [
    {
      "cell_type": "markdown",
      "source": "# Sine and Cosine\r\n\r\nIf it is desired to fit a sum of exponentials plus a $cosine$ or a $sine$, the algorithm is exactly the same. Sines and cosines manifest themselves as a pair of complex conjugate eigen-values of $\\hat{A}$.",
      "metadata": {}
    },
    {
      "cell_type": "markdown",
      "source": "---\n\n# Example\n\n## Import [PyArma](https://pyarma.sourceforge.io/)",
      "metadata": {}
    },
    {
      "cell_type": "code",
      "source": "from pyarma import *\nfrom pyarma_utils import cumtrapz, join_horizontal",
      "metadata": {
        "trusted": true
      },
      "outputs": [],
      "execution_count": 3
    },
    {
      "cell_type": "markdown",
      "source": "## Generate data to fit",
      "metadata": {}
    },
    {
      "cell_type": "code",
      "source": "dx = 0.02\nx = regspace(dx, dx, 1.5)\ny = 5*exp(0.5*x) + 4*cos(0.15*x)",
      "metadata": {
        "trusted": true
      },
      "outputs": [],
      "execution_count": 4
    },
    {
      "cell_type": "markdown",
      "source": "## Compute integrals",
      "metadata": {}
    },
    {
      "cell_type": "code",
      "source": "iy1 = cumtrapz(x, y)\niy2 = cumtrapz(x, iy1)\niy3 = cumtrapz(x, iy2)",
      "metadata": {
        "trusted": true
      },
      "outputs": [],
      "execution_count": 5
    },
    {
      "cell_type": "markdown",
      "source": "## Compute exponentials lambdas",
      "metadata": {}
    },
    {
      "cell_type": "code",
      "source": "Y = join_horizontal(iy1, iy2, iy3, pow(x, 2), x, ones(size(x)))\nA = pinv(Y)*y;\nlambdas = eig_gen(mat([\n    [A[0], A[1], A[2]],\n    [1, 0, 0],\n    [0, 1, 0]\n]))[0]\nlambdas.print(\"lambdas = \")",
      "metadata": {
        "trusted": true
      },
      "outputs": [
        {
          "name": "stdout",
          "text": "lambdas = \n    (+5.000e-01,+0.000e+00)\n    (+2.630e-10,+1.500e-01)\n    (+2.630e-10,-1.500e-01)\n",
          "output_type": "stream"
        }
      ],
      "execution_count": 6
    },
    {
      "cell_type": "markdown",
      "source": "## Compute exponentials multipliers",
      "metadata": {}
    },
    {
      "cell_type": "code",
      "source": "x = cx_mat(x)\nX = join_horizontal(exp(lambdas[0]*x), exp(lambdas[1]*x), exp(lambdas[2]*x))\nP = pinv(X)*y;\nP.print(\"P = \")",
      "metadata": {
        "trusted": true
      },
      "outputs": [
        {
          "name": "stdout",
          "text": "P = \n    (+5.000e+00,-4.376e-15)\n    (+2.000e+00,+9.206e-05)\n    (+2.000e+00,-9.206e-05)\n",
          "output_type": "stream"
        }
      ],
      "execution_count": 7
    },
    {
      "cell_type": "markdown",
      "source": "## Discussion\n\nNote the cosine multiplier $4$ appears in $P$ as $2$ times $2$.\r\n\r\nIf we were to fit a $sine$ instead we would get:\r\n\r\n\r\n\r\n\ty  =  5*exp(0.5*x) + 4*sin(0.15*x);\r\n\r\n\t% other stuff\r\n\r\n\tlambdas =\r\n\r\n\t   0.5000 +      0i\r\n\t  -0.0000 + 0.1500i\r\n\t  -0.0000 - 0.1500i\r\n\r\n\tP =\r\n\r\n\t   5.0001e+00 + 5.2915e-16i\r\n\t  -4.6543e-05 - 1.9999e+00i\r\n\t  -4.6543e-05 + 1.9999e+00i\r\n\r\nNote now the $2$ times $2$ appears in the complex part of $P$.",
      "metadata": {}
    }
  ]
}